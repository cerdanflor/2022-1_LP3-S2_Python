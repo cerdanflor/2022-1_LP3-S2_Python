{
 "cells": [
  {
   "cell_type": "markdown",
   "id": "1afd4406",
   "metadata": {},
   "source": [
    "# SEMANA06\n",
    "Mg. Flor Elizabeth Cerdán León"
   ]
  },
  {
   "cell_type": "code",
   "execution_count": null,
   "id": "d9592637",
   "metadata": {},
   "outputs": [],
   "source": [
    "Tema: Clases y objetos"
   ]
  },
  {
   "cell_type": "code",
   "execution_count": 1,
   "id": "9ee88723",
   "metadata": {},
   "outputs": [],
   "source": [
    "# Problema 01\n",
    "# Crear la siguiente Clase:\n",
    "# - Clase: Persona\n",
    "# - Atributos: nombre, apellidos, fecha_nacimiento, dni\n"
   ]
  },
  {
   "cell_type": "code",
   "execution_count": 2,
   "id": "4318b55c",
   "metadata": {},
   "outputs": [],
   "source": [
    "class Persona:\n",
    "    nombre = \"\"\n",
    "    apllidos = \"\"\n",
    "    dni = \"\"\n",
    "    talla = 0\n",
    "    "
   ]
  },
  {
   "cell_type": "code",
   "execution_count": 6,
   "id": "100f40d8",
   "metadata": {},
   "outputs": [
    {
     "name": "stdout",
     "output_type": "stream",
     "text": [
      "persona1\n",
      "Nombre: Pablo\n",
      "Apellidos: Perez Prado\n",
      "DNI: 12345678\n",
      "Talla: 1.7\n"
     ]
    }
   ],
   "source": [
    "# Creamos un objeto persona1 de la clase Persona()\n",
    "# y le asignamos valores\n",
    "# Creación del objeto persona1\n",
    "persona1 = Persona()\n",
    "\n",
    "# Asignar valores al objeto\n",
    "persona1.nombre = \"Pablo\"\n",
    "persona1.apellidos = \"Perez Prado\"\n",
    "persona1.dni = \"12345678\"\n",
    "persona1.talla = 1.7\n",
    "\n",
    "# Para mostrar los valores del objeto:\n",
    "print(\"persona1\")\n",
    "print(f\"Nombre: {persona1.nombre}\")\n",
    "print(f\"Apellidos: {persona1.apellidos}\")\n",
    "print(f\"DNI: {persona1.dni}\")\n",
    "print(f\"Talla: {persona1.talla}\")"
   ]
  },
  {
   "cell_type": "code",
   "execution_count": 7,
   "id": "f8c46997",
   "metadata": {},
   "outputs": [],
   "source": [
    "# Para utilizar constructores utilizamos:_init_\n",
    "# ¿Qué es un constructor?\n",
    "# Es un método\n",
    "# Sirve para inicializar valores a una clase\n"
   ]
  },
  {
   "cell_type": "code",
   "execution_count": 8,
   "id": "37c2ee3c",
   "metadata": {},
   "outputs": [],
   "source": [
    "# Problema:\n",
    "# Crear la siguiente clase y utilizar constructores:\n",
    "# Clase: Curso\n",
    "# Atributos: Código, Nombre, Horas, Créditos,\n"
   ]
  },
  {
   "cell_type": "code",
   "execution_count": 11,
   "id": "546aa3b2",
   "metadata": {},
   "outputs": [],
   "source": [
    "# Solución:\n",
    "class curso:\n",
    "    def __init__(self, codigo,nombre,horas,creditos):\n",
    "        self.codigo = codigo\n",
    "        self.nombre = nombre\n",
    "        self.horas = horas\n",
    "        self.creditos = creditos\n",
    "        \n",
    "    def mostrar_datos_curso(self):\n",
    "        print(f\"Curso: {self.nombre}\")\n",
    "        print(f\"Codigo: {self.codigo}\")\n",
    "        print(f\"Horas: {self.horas}\")\n",
    "        print(f\"Créditos: {self.creditos}\")\n",
    "\n",
    "    "
   ]
  },
  {
   "cell_type": "code",
   "execution_count": 12,
   "id": "80c482a8",
   "metadata": {},
   "outputs": [],
   "source": [
    "# Creamos el objeto curso1 y le mandamos parámetros\n",
    "curso1 = curso(\"C0501\", \"LP3\",6,3)"
   ]
  },
  {
   "cell_type": "code",
   "execution_count": 13,
   "id": "697deeae",
   "metadata": {},
   "outputs": [
    {
     "name": "stdout",
     "output_type": "stream",
     "text": [
      "Curso: LP3\n",
      "Codigo: C0501\n",
      "Horas: 6\n",
      "Créditos: 3\n"
     ]
    }
   ],
   "source": [
    "# Mostramos los datos completos del curso, ejecutando el método mostrar_datos_curso()\n",
    "curso1.mostrar_datos_curso();"
   ]
  }
 ],
 "metadata": {
  "kernelspec": {
   "display_name": "Python 3 (ipykernel)",
   "language": "python",
   "name": "python3"
  },
  "language_info": {
   "codemirror_mode": {
    "name": "ipython",
    "version": 3
   },
   "file_extension": ".py",
   "mimetype": "text/x-python",
   "name": "python",
   "nbconvert_exporter": "python",
   "pygments_lexer": "ipython3",
   "version": "3.9.7"
  }
 },
 "nbformat": 4,
 "nbformat_minor": 5
}
