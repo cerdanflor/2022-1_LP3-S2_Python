{
 "cells": [
  {
   "cell_type": "markdown",
   "id": "931e0e89",
   "metadata": {},
   "source": [
    "# Semana 06\n",
    "Mg. Flor Elizabeth Cerdán León"
   ]
  },
  {
   "cell_type": "markdown",
   "id": "66d80fa3",
   "metadata": {},
   "source": [
    "Tema: Funciones"
   ]
  },
  {
   "cell_type": "code",
   "execution_count": 1,
   "id": "7efe1edc",
   "metadata": {},
   "outputs": [],
   "source": [
    "# Tambien son conocidas como métodos\n",
    "\n",
    "# Para crear un método utilizamos: def\n",
    "# Tenemos 4 métodos:\n",
    "# - Métodos Vacíos\n",
    "# - Métodos que reciben valores\n",
    "# - Métodos que devuelven valores\n",
    "# - Métodos que reciben y devuelven valores"
   ]
  },
  {
   "cell_type": "code",
   "execution_count": 2,
   "id": "a4e3b0de",
   "metadata": {},
   "outputs": [],
   "source": [
    "# Métodos Vacíos\n",
    "# Explicación: No reciben valores(Parámetros)\n",
    "\n",
    "def saludo():\n",
    "    print(\"Bienvenidos al curso de LP3\")\n",
    "    print(\"****Python ****\")"
   ]
  },
  {
   "cell_type": "code",
   "execution_count": 3,
   "id": "910f9fc9",
   "metadata": {},
   "outputs": [
    {
     "name": "stdout",
     "output_type": "stream",
     "text": [
      "Bienvenidos al curso de LP3\n",
      "****Python ****\n"
     ]
    }
   ],
   "source": [
    "saludo()"
   ]
  },
  {
   "cell_type": "code",
   "execution_count": 4,
   "id": "4ddcfb88",
   "metadata": {},
   "outputs": [],
   "source": [
    "# Métodos que reciben valores\n",
    "\n",
    "def factorial(numero):\n",
    "    fac= 1\n",
    "    for i in range(1, numero+1):\n",
    "        fac*=i\n",
    "        # fac = fac*i\n",
    "    print(f\"el factorial es: {fac}\")\n",
    "        "
   ]
  },
  {
   "cell_type": "code",
   "execution_count": 5,
   "id": "3958f902",
   "metadata": {},
   "outputs": [
    {
     "name": "stdout",
     "output_type": "stream",
     "text": [
      "Ingrese Número: 5\n",
      "el factorial es: 120\n"
     ]
    }
   ],
   "source": [
    "numero = int(input(\"Ingrese Número: \"))\n",
    "factorial(numero)"
   ]
  },
  {
   "cell_type": "code",
   "execution_count": 6,
   "id": "7c99da3e",
   "metadata": {},
   "outputs": [],
   "source": [
    "# Métodos que devuelven valores\n",
    "def saludo2():\n",
    "    mensaje = \"Bienvenidos a LP3\"\n",
    "    return mensaje"
   ]
  },
  {
   "cell_type": "code",
   "execution_count": 7,
   "id": "c688e808",
   "metadata": {},
   "outputs": [
    {
     "name": "stdout",
     "output_type": "stream",
     "text": [
      "Bienvenidos a LP3\n"
     ]
    }
   ],
   "source": [
    "print(saludo2())"
   ]
  },
  {
   "cell_type": "code",
   "execution_count": 8,
   "id": "c2e93895",
   "metadata": {},
   "outputs": [],
   "source": [
    "# Métodos que reciben y devuelven valores\n",
    "\n",
    "def factorial2(numero):\n",
    "    fac = 1\n",
    "    for i in range(1, numero+1):\n",
    "        fac*=i\n",
    "        # fac = fac*i\n",
    "    return fac"
   ]
  },
  {
   "cell_type": "code",
   "execution_count": 9,
   "id": "3b0a7d0b",
   "metadata": {},
   "outputs": [
    {
     "name": "stdout",
     "output_type": "stream",
     "text": [
      "Número: 5\n",
      "El factorial de 5 es 120\n"
     ]
    }
   ],
   "source": [
    "numero = int(input(\"Número: \"))\n",
    "print(f\"El factorial de {numero} es {factorial2(numero)}\")"
   ]
  },
  {
   "cell_type": "code",
   "execution_count": 10,
   "id": "bbd989d2",
   "metadata": {},
   "outputs": [],
   "source": [
    "# Otro ejemplo\n",
    "# Calcular el igv\n",
    "def obtenerigv(importe):\n",
    "    return importe*0.19"
   ]
  },
  {
   "cell_type": "code",
   "execution_count": 11,
   "id": "f8572180",
   "metadata": {},
   "outputs": [
    {
     "data": {
      "text/plain": [
       "28.5"
      ]
     },
     "execution_count": 11,
     "metadata": {},
     "output_type": "execute_result"
    }
   ],
   "source": [
    "obtenerigv(150)"
   ]
  },
  {
   "cell_type": "code",
   "execution_count": 12,
   "id": "e208eade",
   "metadata": {},
   "outputs": [
    {
     "data": {
      "text/plain": [
       "140"
      ]
     },
     "execution_count": 12,
     "metadata": {},
     "output_type": "execute_result"
    }
   ],
   "source": [
    "factorial2(5)+20"
   ]
  },
  {
   "cell_type": "code",
   "execution_count": null,
   "id": "d0b19192",
   "metadata": {},
   "outputs": [],
   "source": []
  }
 ],
 "metadata": {
  "kernelspec": {
   "display_name": "Python 3 (ipykernel)",
   "language": "python",
   "name": "python3"
  },
  "language_info": {
   "codemirror_mode": {
    "name": "ipython",
    "version": 3
   },
   "file_extension": ".py",
   "mimetype": "text/x-python",
   "name": "python",
   "nbconvert_exporter": "python",
   "pygments_lexer": "ipython3",
   "version": "3.9.7"
  }
 },
 "nbformat": 4,
 "nbformat_minor": 5
}
