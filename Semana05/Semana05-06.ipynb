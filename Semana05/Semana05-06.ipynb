{
 "cells": [
  {
   "cell_type": "markdown",
   "id": "671e5df8",
   "metadata": {},
   "source": [
    "# Semana 05\n",
    "Mg. Flor Elizabeth Cerdán León"
   ]
  },
  {
   "cell_type": "markdown",
   "id": "9b8c5894",
   "metadata": {},
   "source": [
    "# Temas:\n",
    "7. Colecciones de Datos\n",
    "8. Estructuras decisivas y estructuras repetitivas\n",
    "9. Clases y objetos\n",
    "10.Funciones"
   ]
  },
  {
   "cell_type": "markdown",
   "id": "256e5cfe",
   "metadata": {},
   "source": [
    "5.7 Colecciones de Datos\n"
   ]
  },
  {
   "cell_type": "code",
   "execution_count": 56,
   "id": "b7727382",
   "metadata": {},
   "outputs": [
    {
     "name": "stdout",
     "output_type": "stream",
     "text": [
      "['Vasquez', 'Reyes', 'Condori', 'Martinez']\n"
     ]
    }
   ],
   "source": [
    "# Listas\n",
    "# eS una colección de elementos que puede ser ordenada, modificada, etc.....\n",
    "# Se identifica por los corchetes\n",
    "#Ejemplo:\n",
    "aula = ['Vasquez', 'Reyes','Condori', 'Martinez']\n",
    "print(aula)"
   ]
  },
  {
   "cell_type": "code",
   "execution_count": 57,
   "id": "9c2f8ac5",
   "metadata": {},
   "outputs": [],
   "source": [
    "# Tambien se puede imprimir con solo mencionar la lista"
   ]
  },
  {
   "cell_type": "code",
   "execution_count": 58,
   "id": "85a4bdbb",
   "metadata": {},
   "outputs": [
    {
     "data": {
      "text/plain": [
       "['Vasquez', 'Reyes', 'Condori', 'Martinez']"
      ]
     },
     "execution_count": 58,
     "metadata": {},
     "output_type": "execute_result"
    }
   ],
   "source": [
    "aula"
   ]
  },
  {
   "cell_type": "code",
   "execution_count": 59,
   "id": "0f17e834",
   "metadata": {},
   "outputs": [],
   "source": [
    "# PODEMOS EXTRAER CADA ELEMENTO POR SU POSICIÓN"
   ]
  },
  {
   "cell_type": "code",
   "execution_count": 60,
   "id": "40de5d45",
   "metadata": {},
   "outputs": [
    {
     "name": "stdout",
     "output_type": "stream",
     "text": [
      "Vasquez\n",
      "Reyes\n"
     ]
    }
   ],
   "source": [
    "print(aula[0])\n",
    "print(aula[1])"
   ]
  },
  {
   "cell_type": "code",
   "execution_count": 61,
   "id": "78ee0326",
   "metadata": {},
   "outputs": [
    {
     "data": {
      "text/plain": [
       "'Sayas'"
      ]
     },
     "execution_count": 61,
     "metadata": {},
     "output_type": "execute_result"
    }
   ],
   "source": [
    "# puedo asignar un valor a una posición de la lista\n",
    "aula[1] = 'Sayas'\n",
    "aula[1]"
   ]
  },
  {
   "cell_type": "code",
   "execution_count": 62,
   "id": "916b5c17",
   "metadata": {},
   "outputs": [
    {
     "data": {
      "text/plain": [
       "['Vasquez', 'Sayas', 'Condori', 'Martinez']"
      ]
     },
     "execution_count": 62,
     "metadata": {},
     "output_type": "execute_result"
    }
   ],
   "source": [
    "# Mostramos como quedó la lista\n",
    "aula"
   ]
  },
  {
   "cell_type": "code",
   "execution_count": 63,
   "id": "31ba502f",
   "metadata": {},
   "outputs": [
    {
     "data": {
      "text/plain": [
       "['Vasquez', 'Sayas', 'Condori', 'Martinez', 'Trigos', 'Condori']"
      ]
     },
     "execution_count": 63,
     "metadata": {},
     "output_type": "execute_result"
    }
   ],
   "source": [
    "# Para agregar un elemento utilizamos append\n",
    "aula.append(\"Trigos\")\n",
    "aula.append(\"Condori\")\n",
    "aula"
   ]
  },
  {
   "cell_type": "code",
   "execution_count": 64,
   "id": "ef1cd9f6",
   "metadata": {},
   "outputs": [],
   "source": [
    "# Para eliminar elementos utilizamos remove[]"
   ]
  },
  {
   "cell_type": "code",
   "execution_count": 65,
   "id": "f3da88e3",
   "metadata": {},
   "outputs": [
    {
     "data": {
      "text/plain": [
       "['Vasquez', 'Condori', 'Martinez', 'Trigos', 'Condori']"
      ]
     },
     "execution_count": 65,
     "metadata": {},
     "output_type": "execute_result"
    }
   ],
   "source": [
    "aula.remove(\"Sayas\")\n",
    "aula"
   ]
  },
  {
   "cell_type": "code",
   "execution_count": 66,
   "id": "f54d6948",
   "metadata": {},
   "outputs": [],
   "source": [
    "# Si hubiera varios elementos de valores iguales se elimina la primera coincidencia\n"
   ]
  },
  {
   "cell_type": "code",
   "execution_count": 67,
   "id": "6bc35c2d",
   "metadata": {},
   "outputs": [
    {
     "data": {
      "text/plain": [
       "['Vasquez', 'Martinez', 'Trigos', 'Condori']"
      ]
     },
     "execution_count": 67,
     "metadata": {},
     "output_type": "execute_result"
    }
   ],
   "source": [
    "\n",
    "aula.remove(\"Condori\")\n",
    "aula"
   ]
  },
  {
   "cell_type": "code",
   "execution_count": null,
   "id": "7b5ef9ab",
   "metadata": {},
   "outputs": [],
   "source": [
    "# Para obtener el tamaño utilizamos len()"
   ]
  },
  {
   "cell_type": "code",
   "execution_count": 68,
   "id": "96af6b07",
   "metadata": {},
   "outputs": [
    {
     "data": {
      "text/plain": [
       "4"
      ]
     },
     "execution_count": 68,
     "metadata": {},
     "output_type": "execute_result"
    }
   ],
   "source": [
    "len(aula)"
   ]
  },
  {
   "cell_type": "code",
   "execution_count": 69,
   "id": "4c1d9b09",
   "metadata": {},
   "outputs": [
    {
     "name": "stdout",
     "output_type": "stream",
     "text": [
      "Vasquez\n",
      "Martinez\n",
      "Trigos\n",
      "Condori\n"
     ]
    }
   ],
   "source": [
    "# Para recorrer podemos utilizar una estructura repetitiva\n",
    "for alumno in aula:\n",
    "    print(alumno)"
   ]
  },
  {
   "cell_type": "code",
   "execution_count": 70,
   "id": "871fbea2",
   "metadata": {},
   "outputs": [
    {
     "data": {
      "text/plain": [
       "['Condori', 'Trigos', 'Martinez', 'Vasquez']"
      ]
     },
     "execution_count": 70,
     "metadata": {},
     "output_type": "execute_result"
    }
   ],
   "source": [
    "# Para invertir la lista utilizamos reverse()\n",
    "# Invertir no significa ordenar en forma de sin invertir la listascendente\n",
    "aula.reverse()\n",
    "aula"
   ]
  },
  {
   "cell_type": "code",
   "execution_count": 71,
   "id": "68d05e92",
   "metadata": {},
   "outputs": [
    {
     "data": {
      "text/plain": [
       "['Condori', 'Martinez', 'Trigos', 'Vasquez']"
      ]
     },
     "execution_count": 71,
     "metadata": {},
     "output_type": "execute_result"
    }
   ],
   "source": [
    "# Para ordenar una lista utilizamos sort()\n",
    "aula.sort()\n",
    "aula"
   ]
  },
  {
   "cell_type": "code",
   "execution_count": 72,
   "id": "9e6703f9",
   "metadata": {},
   "outputs": [
    {
     "data": {
      "text/plain": [
       "('Vasquez', 'Reyes', 'Condori', 'Martinez')"
      ]
     },
     "execution_count": 72,
     "metadata": {},
     "output_type": "execute_result"
    }
   ],
   "source": [
    "# Tuplas\n",
    "# Es una colección de elementos ordenada (ordenado significa que tiene un índice) que no se puede modificar, es inalterable.\n",
    "# No se puede agregar elementos ni eliminar.\n",
    "# Se identifica por los paréntesis\n",
    "tupla_aula = ('Vasquez', 'Reyes','Condori', 'Martinez')\n",
    "tupla_aula"
   ]
  }
 ],
 "metadata": {
  "kernelspec": {
   "display_name": "Python 3 (ipykernel)",
   "language": "python",
   "name": "python3"
  },
  "language_info": {
   "codemirror_mode": {
    "name": "ipython",
    "version": 3
   },
   "file_extension": ".py",
   "mimetype": "text/x-python",
   "name": "python",
   "nbconvert_exporter": "python",
   "pygments_lexer": "ipython3",
   "version": "3.9.7"
  }
 },
 "nbformat": 4,
 "nbformat_minor": 5
}
